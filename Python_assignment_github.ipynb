{
 "cells": [
  {
   "cell_type": "code",
   "execution_count": null,
   "id": "e81cd170-7ef1-4b5a-8f87-1a39e014f91c",
   "metadata": {},
   "outputs": [],
   "source": []
  },
  {
   "cell_type": "markdown",
   "id": "cdd469a3-bc48-4bbc-9e58-7b8ade02e5ae",
   "metadata": {},
   "source": [
    "## Assignment Topic - Python Basic\n",
    "### Assignment Submitted By: Naveen Kumar(9671833292)"
   ]
  },
  {
   "cell_type": "markdown",
   "id": "17f6aabb-4ed7-47f1-a20b-c8ab82812ff7",
   "metadata": {},
   "source": [
    "### Q1. Explain the 3 differences between List and tuples."
   ]
  },
  {
   "cell_type": "markdown",
   "id": "9a90dca6-8283-426b-97e5-37c551e54e38",
   "metadata": {},
   "source": [
    "### Q2. You’re a Data Scientist. You have assigned a task to perform. Create two lists l1 & l2, where l1 has values -> (1,2,3,4,5,6) and l2 has values -> (6,5,4,3,2,1). Compare the corresponding element values of both the lists and print “L1 element value is greater than L2 element value” if corresponding value from l1 is greater else print “L1 element value is less than L2 element value” if corresponding value from l1 is less than l2.\n"
   ]
  },
  {
   "cell_type": "code",
   "execution_count": 14,
   "id": "2c3dc134-1b52-48c1-890f-f968f8f0e2f4",
   "metadata": {},
   "outputs": [
    {
     "name": "stdout",
     "output_type": "stream",
     "text": [
      "L1 element value 1 is less than L2 element value 6\n",
      "L1 element value 2 is less than L2 element value 5\n",
      "L1 element value 3 is less than L2 element value 4\n",
      "L1 element value 4 is greater than L2 element value 3\n",
      "L1 element value 5 is greater than L2 element value 2\n",
      "L1 element value 6 is greater than L2 element value 1\n"
     ]
    }
   ],
   "source": [
    "# Define the two lists\n",
    "l1 = [1, 2, 3, 4, 5, 6]\n",
    "l2 = [6, 5, 4, 3, 2, 1]\n",
    "\n",
    "# Compare corresponding elements and print the result\n",
    "for a, b in zip(l1, l2):\n",
    "    if a > b:\n",
    "        print(f\"L1 element value {a} is greater than L2 element value {b}\")\n",
    "    else:\n",
    "        print(f\"L1 element value {a} is less than L2 element value {b}\")\n"
   ]
  },
  {
   "cell_type": "markdown",
   "id": "2e8f83c3-f0e8-4ddb-8982-845f1a933a8e",
   "metadata": {},
   "source": [
    "### Q3. Write a Python user defined function that takes a list of numbers from user and returns a dictionary with the number as the key and its square as the value.\n",
    "\n"
   ]
  },
  {
   "cell_type": "code",
   "execution_count": 16,
   "id": "5871362c-e7c1-43b9-bc49-a3bd2a1f31df",
   "metadata": {},
   "outputs": [
    {
     "name": "stdin",
     "output_type": "stream",
     "text": [
      "Enter numbers separated by spaces:  5 4 48 13 45\n"
     ]
    },
    {
     "name": "stdout",
     "output_type": "stream",
     "text": [
      "Dictionary with squares: {5: 25, 4: 16, 48: 2304, 13: 169, 45: 2025}\n"
     ]
    }
   ],
   "source": [
    "def square_dict(numbers):\n",
    "    \"\"\"\n",
    "    Function to return a dictionary with numbers as keys and their squares as values.\n",
    "    \"\"\"\n",
    "    return {num: num**2 for num in numbers}\n",
    "\n",
    "# Taking input from the user as a list of numbers\n",
    "numbers = list(map(int, input(\"Enter numbers separated by spaces: \").split()))\n",
    "\n",
    "# Calling the function and printing the result\n",
    "result = square_dict(numbers)\n",
    "print(\"Dictionary with squares:\", result)\n"
   ]
  },
  {
   "cell_type": "markdown",
   "id": "c2ac0612-3c75-49fb-835b-bab78db82000",
   "metadata": {},
   "source": [
    "### Q4. You work in a Company as a Analyst. The company officials want you to build a python based Calculator. Write code to create a user defined function named Calculator.\n",
    "#### ●\tUser will pass 3 parameters in Calculator function – int1, int2, task\n",
    "#### ●\tThe task string will be ‘add’, ‘sub’, ‘mul’, ‘div’. Perform Addition, Subtraction, Multiplication and Division on the two numbers(int1, int2) respectively. Make sure the task parameter is case insensitive (meaning that even if user passes ‘aDd’ as command it should perform addition on two numbers).\n",
    "#### ●\tDefine logics for addition, subtraction, multiplication and division in Calculator function that take in two numbers and return another number after performing their respective operations.\n",
    "##### Eg: Calculator(2,5,ADD) should return 7\n",
    "##### Calculator(7,1,SuB) should return 6\n",
    "\n",
    "\n"
   ]
  },
  {
   "cell_type": "code",
   "execution_count": 23,
   "id": "30347bc3-0831-4859-9c3d-50834a58f278",
   "metadata": {},
   "outputs": [
    {
     "name": "stdin",
     "output_type": "stream",
     "text": [
      "Enter the first number:  5\n",
      "Enter the second number:  5\n",
      "Enter the operation (add, sub, mul, div):  sub\n"
     ]
    },
    {
     "name": "stdout",
     "output_type": "stream",
     "text": [
      "Result: 0.0\n"
     ]
    }
   ],
   "source": [
    "def Calculator(int1, int2, task):\n",
    "    \"\"\"\n",
    "    A dynamic calculator function that performs addition, subtraction, \n",
    "    multiplication, and division based on user input.\n",
    "    \"\"\"\n",
    "    # Convert task to lowercase to make it case-insensitive\n",
    "    task = task.lower()\n",
    "    \n",
    "    if task == 'add':\n",
    "        return int1 + int2\n",
    "    elif task == 'sub':\n",
    "        return int1 - int2\n",
    "    elif task == 'mul':\n",
    "        return int1 * int2\n",
    "    elif task == 'div':\n",
    "        if int2 == 0:  # Handling division by zero\n",
    "            return \"Error: Division by zero is not allowed.\"\n",
    "        return int1 / int2\n",
    "    else:\n",
    "        return \"Error: Invalid task. Use 'add', 'sub', 'mul', or 'div'.\"\n",
    "\n",
    "# Taking dynamic input from the user\n",
    "try:\n",
    "    num1 = float(input(\"Enter the first number: \"))\n",
    "    num2 = float(input(\"Enter the second number: \"))\n",
    "    operation = input(\"Enter the operation (add, sub, mul, div): \")\n",
    "\n",
    "    # Calling the Calculator function and displaying the result\n",
    "    result = Calculator(num1, num2, operation)\n",
    "    print(f\"Result: {result}\")\n",
    "\n",
    "except ValueError:\n",
    "    print(\"Error: Please enter valid numeric values.\")\n"
   ]
  },
  {
   "cell_type": "markdown",
   "id": "932dcb34-0768-4c5d-91b4-be2ad6e01fce",
   "metadata": {},
   "source": [
    "### Q5 Write a Function to check if the year number is a leap year or not. Print all Leap Years of 21st Century."
   ]
  },
  {
   "cell_type": "code",
   "execution_count": 25,
   "id": "657fc71b-28bd-405b-a853-376ddd0a0b7c",
   "metadata": {},
   "outputs": [
    {
     "name": "stdout",
     "output_type": "stream",
     "text": [
      "Leap Years in the 21st Century:\n",
      "[2004, 2008, 2012, 2016, 2020, 2024, 2028, 2032, 2036, 2040, 2044, 2048, 2052, 2056, 2060, 2064, 2068, 2072, 2076, 2080, 2084, 2088, 2092, 2096]\n"
     ]
    }
   ],
   "source": [
    "def is_leap_year(year):\n",
    "    \"\"\"\n",
    "    Function to check if a given year is a leap year.\n",
    "    A leap year is divisible by 4, but not by 100 unless also divisible by 400.\n",
    "    \"\"\"\n",
    "    return (year % 4 == 0 and year % 100 != 0) or (year % 400 == 0)\n",
    "\n",
    "# Print all leap years from 2001 to 2100\n",
    "print(\"Leap Years in the 21st Century:\")\n",
    "leap_years = [year for year in range(2001, 2101) if is_leap_year(year)]\n",
    "print(leap_years)\n"
   ]
  },
  {
   "cell_type": "markdown",
   "id": "b0cb3cad-cd03-43cc-aa7f-cf9fb4a09ec7",
   "metadata": {},
   "source": [
    "### Q6. Write a python code to print the following pattern. \n",
    "#### 1\n",
    "#### 1 2\n",
    "#### 1 2 3\n",
    "#### 1 2 3 4\n",
    "#### 1 2 3 4 5\n"
   ]
  },
  {
   "cell_type": "code",
   "execution_count": null,
   "id": "8f49f33e-54b9-4c6d-8a45-d5fbaa19789f",
   "metadata": {},
   "outputs": [],
   "source": []
  },
  {
   "cell_type": "markdown",
   "id": "dfb97143-cbac-44a3-b090-928e85920502",
   "metadata": {},
   "source": [
    "### Q7 Write a Python program to convert a list of tuples to dictionary?\n",
    "#### Eg: I/P --  [(\"name\",\"Virat\"),(\"surname\",\"Kohli\"),(\"yob\",1986)]\n",
    "####      O/P -- {'name': 'Virat', 'surname': 'Kohli', 'yob': 1986}"
   ]
  },
  {
   "cell_type": "code",
   "execution_count": 27,
   "id": "2f5e1dcb-372d-4b79-87d2-931f0cab2458",
   "metadata": {},
   "outputs": [
    {
     "name": "stdout",
     "output_type": "stream",
     "text": [
      "{'name': 'Virat', 'surname': 'Kohli', 'yob': 1986}\n"
     ]
    }
   ],
   "source": [
    "def list_to_dict(tuples_list):\n",
    "    \"\"\"\n",
    "    Function to convert a list of tuples into a dictionary.\n",
    "    \"\"\"\n",
    "    return dict(tuples_list)\n",
    "\n",
    "# Input list of tuples\n",
    "tuples_list = [(\"name\", \"Virat\"), (\"surname\", \"Kohli\"), (\"yob\", 1986)]\n",
    "\n",
    "# Convert to dictionary\n",
    "result_dict = list_to_dict(tuples_list)\n",
    "\n",
    "# Print the result\n",
    "print(result_dict)\n"
   ]
  },
  {
   "cell_type": "markdown",
   "id": "31fa4600-b97d-4d39-9d0e-f96ebc802e96",
   "metadata": {},
   "source": [
    "### Q8 . Write a Function to take a list from user and return 2 lists:\n",
    "#### -  1st list should contain all even indexed numbers.\n",
    "#### -\t2nd list should contain all odd indexed numbers."
   ]
  },
  {
   "cell_type": "code",
   "execution_count": 29,
   "id": "bed3719b-cfae-4429-93c6-83e010f3c574",
   "metadata": {},
   "outputs": [
    {
     "name": "stdin",
     "output_type": "stream",
     "text": [
      "Enter numbers separated by spaces:  1 5 5 4 9 7\n"
     ]
    },
    {
     "name": "stdout",
     "output_type": "stream",
     "text": [
      "Even Indexed Numbers: [1, 5, 9]\n",
      "Odd Indexed Numbers: [5, 4, 7]\n"
     ]
    }
   ],
   "source": [
    "def split_even_odd_index(lst):\n",
    "    \"\"\"\n",
    "    Function to split a list into two lists:\n",
    "    - One with elements at even indices\n",
    "    - One with elements at odd indices\n",
    "    \"\"\"\n",
    "    even_indexed = lst[::2]  # Extract elements at even indices\n",
    "    odd_indexed = lst[1::2]  # Extract elements at odd indices\n",
    "    return even_indexed, odd_indexed\n",
    "\n",
    "# Taking user input as a list of numbers\n",
    "user_list = list(map(int, input(\"Enter numbers separated by spaces: \").split()))\n",
    "\n",
    "# Calling function and getting results\n",
    "even_list, odd_list = split_even_odd_index(user_list)\n",
    "\n",
    "# Displaying the results\n",
    "print(\"Even Indexed Numbers:\", even_list)\n",
    "print(\"Odd Indexed Numbers:\", odd_list)\n"
   ]
  },
  {
   "cell_type": "markdown",
   "id": "4c54dec8-ec59-408b-b740-8b2132d0435f",
   "metadata": {},
   "source": [
    "### Q9. Create a function longest_word(sentence) that takes a sentence as input and returns  the  longest word in  the  sentence. If two or  more words have the  same length, return the first one.\n",
    "\n",
    "#### Eg: longest_word(\"Python programming is fun\")   # Output: 'programming'\n"
   ]
  },
  {
   "cell_type": "code",
   "execution_count": 33,
   "id": "cc9c8492-8f73-436e-86e1-b5aa27aef128",
   "metadata": {},
   "outputs": [
    {
     "name": "stdin",
     "output_type": "stream",
     "text": [
      "Enter a sentence:  naveen is cool\n"
     ]
    },
    {
     "name": "stdout",
     "output_type": "stream",
     "text": [
      "Longest word: naveen\n"
     ]
    }
   ],
   "source": [
    "def longest_word(sentence):\n",
    "    \"\"\"\n",
    "    Function to return the longest word in a given sentence.\n",
    "    If multiple words have the same length, return the first one.\n",
    "    \"\"\"\n",
    "    words = sentence.split()  # Split sentence into words\n",
    "    longest = max(words, key=len)  # Find the longest word using max() with key=len\n",
    "    return longest\n",
    "\n",
    "# Taking user input dynamically\n",
    "user_sentence = input(\"Enter a sentence: \")\n",
    "\n",
    "# Calling the function and displaying the result\n",
    "print(\"Longest word:\", longest_word(user_sentence))\n"
   ]
  },
  {
   "cell_type": "markdown",
   "id": "3450bef8-1222-41cc-a3ff-05302c14c165",
   "metadata": {},
   "source": [
    "### Q10. Write a Python  program  that takes a list and counts  the frequency of each  element using a dictionary. The keys of the dictionary should be the list elements, and the values should be the counts\n",
    "\n",
    "#### Eg: I/P:   [1, 2, 2, 3, 4, 4, 4, 5, 5] \n",
    "#### o/p: {1: 1, 2: 2, 3: 1, 4: 3, 5: 2}\n"
   ]
  },
  {
   "cell_type": "code",
   "execution_count": 35,
   "id": "51bf594c-e1e3-4ffc-b323-ca870ad96d08",
   "metadata": {},
   "outputs": [
    {
     "name": "stdin",
     "output_type": "stream",
     "text": [
      "Enter numbers separated by spaces:  1 5 7 5 8 6 4 5 2 4 5 5 4\n"
     ]
    },
    {
     "name": "stdout",
     "output_type": "stream",
     "text": [
      "Frequency of elements: {1: 1, 5: 5, 7: 1, 8: 1, 6: 1, 4: 3, 2: 1}\n"
     ]
    }
   ],
   "source": [
    "def count_frequency(lst):\n",
    "    \"\"\"\n",
    "    Function to count the frequency of each element in a list using a dictionary.\n",
    "    \"\"\"\n",
    "    frequency_dict = {}\n",
    "    for num in lst:\n",
    "        frequency_dict[num] = frequency_dict.get(num, 0) + 1  # Increment count\n",
    "    \n",
    "    return frequency_dict\n",
    "\n",
    "# Taking user input dynamically\n",
    "user_list = list(map(int, input(\"Enter numbers separated by spaces: \").split()))\n",
    "\n",
    "# Calling the function and displaying the result\n",
    "result = count_frequency(user_list)\n",
    "print(\"Frequency of elements:\", result)\n"
   ]
  },
  {
   "cell_type": "code",
   "execution_count": null,
   "id": "24a70a62-7cb2-42f4-82b2-c3a4c2461246",
   "metadata": {},
   "outputs": [],
   "source": []
  },
  {
   "cell_type": "code",
   "execution_count": null,
   "id": "a248c098-5234-4df5-97c0-3106210b7476",
   "metadata": {},
   "outputs": [],
   "source": []
  }
 ],
 "metadata": {
  "kernelspec": {
   "display_name": "Python [conda env:base] *",
   "language": "python",
   "name": "conda-base-py"
  },
  "language_info": {
   "codemirror_mode": {
    "name": "ipython",
    "version": 3
   },
   "file_extension": ".py",
   "mimetype": "text/x-python",
   "name": "python",
   "nbconvert_exporter": "python",
   "pygments_lexer": "ipython3",
   "version": "3.12.7"
  }
 },
 "nbformat": 4,
 "nbformat_minor": 5
}
